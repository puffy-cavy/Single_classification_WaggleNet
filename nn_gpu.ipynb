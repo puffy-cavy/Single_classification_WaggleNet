{
 "cells": [
  {
   "cell_type": "code",
   "execution_count": 1,
   "metadata": {},
   "outputs": [
    {
     "name": "stdout",
     "output_type": "stream",
     "text": [
      "1.10.0\n"
     ]
    }
   ],
   "source": [
    "# TensorFlow and tf.keras\n",
    "import tensorflow as tf\n",
    "from tensorflow import keras\n",
    "\n",
    "# Helper libraries\n",
    "import numpy as np\n",
    "import matplotlib.pyplot as plt\n",
    "\n",
    "print(tf.__version__)"
   ]
  },
  {
   "cell_type": "code",
   "execution_count": 2,
   "metadata": {},
   "outputs": [],
   "source": [
    "# load the image from cifar-100\n",
    "def unpickle(file):\n",
    "    import pickle\n",
    "    with open(file, 'rb') as fo:\n",
    "        dict = pickle.load(fo)\n",
    "    return dict\n",
    "\n"
   ]
  },
  {
   "cell_type": "code",
   "execution_count": 3,
   "metadata": {},
   "outputs": [],
   "source": [
    "f = unpickle(\"/Users/Wendy/Fall2018/397/cifar-100-python/train\")\n",
    "f_test = unpickle(\"/Users/Wendy/Fall2018/397/cifar-100-python/test\")\n"
   ]
  },
  {
   "cell_type": "code",
   "execution_count": 4,
   "metadata": {},
   "outputs": [
    {
     "name": "stdout",
     "output_type": "stream",
     "text": [
      "honeybee_s_001239.png\n",
      "51\n"
     ]
    }
   ],
   "source": [
    "#create 2 classes from label 0 and label 6->honey bees\n",
    "X_train = []\n",
    "X_test = []\n",
    "Y_train = []\n",
    "Y_test = []\n",
    "j = 0\n",
    "for i in range(len(f['fine_labels'])):\n",
    "    if(f['fine_labels'][i] == 0):\n",
    "        X_train.append(f['data'][i])\n",
    "        Y_train.append(0)\n",
    "    elif(f['fine_labels'][i] == 6):\n",
    "        X_train.append(f['data'][i])\n",
    "        Y_train.append(1)\n",
    "\n",
    "for i in range(len(f_test['fine_labels'])):\n",
    "    if(f_test['fine_labels'][i] == 0):\n",
    "        X_test.append(f_test['data'][i])\n",
    "        Y_test.append(0)\n",
    "    elif(f_test['fine_labels'][i] == 6):\n",
    "        X_test.append(f_test['data'][i])\n",
    "        Y_test.append(1)\n",
    "        if j == 0:\n",
    "            print f_test['filenames'][i]\n",
    "            print i\n",
    "        j+=1\n",
    "        \n",
    "X_train = np.array(X_train)/255.0\n",
    "X_test = np.array(X_test)/255.0\n",
    "Y_train = np.array(Y_train)\n",
    "Y_test = np.array(Y_test)"
   ]
  },
  {
   "cell_type": "code",
   "execution_count": null,
   "metadata": {},
   "outputs": [],
   "source": [
    "# inspect X_train[0]\n",
    "#reshape the list into 2D matrix\n",
    "inspect = np.zeros((32,32,3))\n",
    "for i in range(32):\n",
    "    for j in range(32):\n",
    "        inspect[j][i][0] = X_test[1][j*32+i]\n",
    "        inspect[j][i][1] = X_test[1][j*32+i+1024]\n",
    "        inspect[j][i][2] = X_test[1][j*32+i+2048]\n",
    "plt.figure()\n",
    "plt.imshow(inspect)\n",
    "plt.colorbar()\n",
    "plt.grid(False)"
   ]
  },
  {
   "cell_type": "code",
   "execution_count": 5,
   "metadata": {},
   "outputs": [
    {
     "ename": "IndentationError",
     "evalue": "expected an indented block (<ipython-input-5-f32d314b7da2>, line 5)",
     "output_type": "error",
     "traceback": [
      "\u001b[0;36m  File \u001b[0;32m\"<ipython-input-5-f32d314b7da2>\"\u001b[0;36m, line \u001b[0;32m5\u001b[0m\n\u001b[0;31m    with tf.Session(config=config) as sess:\u001b[0m\n\u001b[0m                                           ^\u001b[0m\n\u001b[0;31mIndentationError\u001b[0m\u001b[0;31m:\u001b[0m expected an indented block\n"
     ]
    }
   ],
   "source": [
    "#GPU settings\n",
    "config = tf.ConfigProto(allow_soft_placement=True)\n",
    "config.gpu_options.allow_growth = True\n",
    "config.gpu_options.allocator_type = 'BFC'\n",
    "with tf.Session(config=config) as sess:"
   ]
  },
  {
   "cell_type": "code",
   "execution_count": null,
   "metadata": {},
   "outputs": [],
   "source": []
  }
 ],
 "metadata": {
  "kernelspec": {
   "display_name": "Python 2",
   "language": "python",
   "name": "python2"
  },
  "language_info": {
   "codemirror_mode": {
    "name": "ipython",
    "version": 2
   },
   "file_extension": ".py",
   "mimetype": "text/x-python",
   "name": "python",
   "nbconvert_exporter": "python",
   "pygments_lexer": "ipython2",
   "version": "2.7.15"
  }
 },
 "nbformat": 4,
 "nbformat_minor": 2
}
